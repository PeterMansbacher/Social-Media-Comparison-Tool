{
 "cells": [
  {
   "cell_type": "code",
   "execution_count": 11,
   "id": "dc991f90",
   "metadata": {},
   "outputs": [
    {
     "ename": "SyntaxError",
     "evalue": "invalid syntax (Temp/ipykernel_13836/2508445185.py, line 24)",
     "output_type": "error",
     "traceback": [
      "\u001b[1;36m  File \u001b[1;32m\"C:\\Users\\peter\\AppData\\Local\\Temp/ipykernel_13836/2508445185.py\"\u001b[1;36m, line \u001b[1;32m24\u001b[0m\n\u001b[1;33m    export ODBCSYSINI=/opt/odbc\u001b[0m\n\u001b[1;37m           ^\u001b[0m\n\u001b[1;31mSyntaxError\u001b[0m\u001b[1;31m:\u001b[0m invalid syntax\n"
     ]
    }
   ],
   "source": [
    "\"\"\"\n",
    "TikTok DB uploading code\n",
    "https://docs.microsoft.com/en-us/sql/machine-learning/data-exploration/python-dataframe-sql-server?view=sql-server-ver15#:~:text=Connect%20to%20SQL%20to%20load%20dataframe%20into%20the,was%20successfully%20loaded%20with%20data%20from%20the%20dataframe.\n",
    "\n",
    "\n",
    "\n",
    "CREATE TABLE TIKTOK(\n",
    "    BrandHandle VARCHAR(20) NOT NULL,\n",
    "    PostUrl VARCHAR(100) NOT NULL,\n",
    "    PostDate DATE NOT NULL,\n",
    "    PostText VARCHAR (100),\n",
    "    Likes INT,\n",
    "    Comments INT,\n",
    "    Shares INT,\n",
    "    Views INT\n",
    "    PRIMARY KEY (PostUrl)\n",
    ")\n",
    "\"\"\"\n",
    "import pyodbc\n",
    "import pandas as pd\n",
    "import time \n",
    "start_time = time.time()\n",
    "from sqlalchemy import create_engine\n",
    "\n",
    "# insert data from csv file into dataframe.\n",
    "# working directory for csv file: type \"pwd\" in Azure Data Studio or Linux\n",
    "# working directory in Windows c:\\users\\username\n",
    "df = pd.read_csv(\"target.csv\")\n",
    "# Some other example server values are\n",
    "# server = 'localhost\\sqlexpress' # for a named instance\n",
    "# server = 'myserver,port' # to specify an alternate port\n",
    "server = 'ls-1ef1825172e62dcc237ee491d09a0c12aff562fe.cn5ycdfnko6g.us-east-1.rds.amazonaws.com:3306' \n",
    "database_ = 'smcDB' \n",
    "username = 'dbmasteruser' \n",
    "password_ = 'q+o.H1sd$CRRZl&CSl>VK}-(~+t1ea&P' \n",
    "#cnxn = pyodbc.connect('DRIVER={SQL Server};SERVER='+server+';DATABASE='+database+';UID='+username+';PWD='+ password)\n",
    "cnxn = pyodbc.connect(driver='{ODBC Driver 17 for SQL Server}', host=server, database=database_,\n",
    "                      trusted_connection='yes', user=username, password=password_)\n",
    "cursor = cnxn.cursor()\n",
    "# Insert Dataframe into SQL Server:\n",
    "for index, row in df.iterrows():\n",
    "     cursor.execute(\"INSERT INTO Tiktok (BrandHandle,PostUrl,PostDate,PostText,Likes,Comments,Shares) values(?,?,?,?,?,?,?)\", row.BrandHandle, row.PostUrl, row.PostDate,row.PostText,row.Likes,row.Comments,row.Shares)\n",
    "cnxn.commit()\n",
    "cursor.close()\n",
    "\n"
   ]
  },
  {
   "cell_type": "markdown",
   "id": "e0fe9755",
   "metadata": {},
   "source": [
    "CREATE TABLE TIKTOK(\n",
    "    BrandHandle VARCHAR(20) NOT NULL,\n",
    "    PostUrl VARCHAR(100) NOT NULL,\n",
    "    PostDate DATE NOT NULL,\n",
    "    PostText VARCHAR (100),\n",
    "    Likes INT,\n",
    "    Comments INT,\n",
    "    Shares INT,\n",
    "    Views INT\n",
    "    PRIMARY KEY (PostUrl)\n",
    ")"
   ]
  },
  {
   "cell_type": "markdown",
   "id": "60ecaae4",
   "metadata": {},
   "source": [
    "CREATE TABLE FACEBOOK(\n",
    "    BrandHandle VARCHAR(20) NOT NULL,\n",
    "    PostUrl VARCHAR(100) NOT NULL,\n",
    "    PostDate DATE NOT NULL,\n",
    "    PostText VARCHAR (100),\n",
    "    Likes INT,\n",
    "    Comments INT,\n",
    "    Shares INT,\n",
    "    PRIMARY KEY (PostUrl)\n",
    ");"
   ]
  },
  {
   "cell_type": "markdown",
   "id": "92d7297d",
   "metadata": {},
   "source": [
    "CREATE TABLE PINTEREST(\n",
    "    BrandHandle VARCHAR(20) NOT NULL,\n",
    "    PostUrl VARCHAR(100) NOT NULL,\n",
    "    PostDate DATE NOT NULL,\n",
    "    PostText VARCHAR (100),\n",
    "    Emoticons INT,\n",
    "    Comments INT,\n",
    "    Shares INT,\n",
    "    Pins INT,\n",
    "    Closeups INT,\n",
    "    Saves INT,\n",
    "    PRIMARY KEY (PostUrl)\n",
    ");"
   ]
  },
  {
   "cell_type": "markdown",
   "id": "fe1bcafd",
   "metadata": {},
   "source": [
    "CREATE TABLE YOUTUBE(\n",
    "    BrandHandle VARCHAR(20) NOT NULL,\n",
    "    PostUrl VARCHAR(100) NOT NULL,\n",
    "    PostDate DATE NOT NULL,\n",
    "    PostText VARCHAR (100),\n",
    "    Likes INT,\n",
    "    Comments INT,\n",
    "    PRIMARY KEY (PostUrl)\n",
    ");"
   ]
  },
  {
   "cell_type": "code",
   "execution_count": null,
   "id": "1577e4e4",
   "metadata": {},
   "outputs": [],
   "source": [
    "CREATE TABLE TWITTER(\n",
    "    BrandHandle VARCHAR(20) NOT NULL,\n",
    "    PostUrl VARCHAR(100) NOT NULL,\n",
    "    PostDate DATE NOT NULL,\n",
    "    PostText VARCHAR (100),\n",
    "    Likes INT,\n",
    "    Comments INT,\n",
    "    Retweets INT,\n",
    "    PRIMARY KEY (PostUrl)\n",
    ");"
   ]
  }
 ],
 "metadata": {
  "kernelspec": {
   "display_name": "Python 3 (ipykernel)",
   "language": "python",
   "name": "python3"
  },
  "language_info": {
   "codemirror_mode": {
    "name": "ipython",
    "version": 3
   },
   "file_extension": ".py",
   "mimetype": "text/x-python",
   "name": "python",
   "nbconvert_exporter": "python",
   "pygments_lexer": "ipython3",
   "version": "3.8.12"
  }
 },
 "nbformat": 4,
 "nbformat_minor": 5
}
