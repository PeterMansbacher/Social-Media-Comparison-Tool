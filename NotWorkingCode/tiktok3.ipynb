{
 "cells": [
  {
   "cell_type": "code",
   "execution_count": 1,
   "id": "c5d83654",
   "metadata": {},
   "outputs": [],
   "source": [
    "from bs4 import BeautifulSoup ##html parsing library\n",
    "import bs4\n",
    "\n",
    " \n",
    "import pandas as pd #dataframe library\n",
    "import numpy as np\n",
    "\n",
    "\n",
    "import selenium.webdriver as webdriver\n",
    "from webdriver_manager.chrome import ChromeDriverManager\n",
    "\n",
    "\n",
    "\n",
    "import requests\n",
    "import urllib.request\n",
    "from urllib.parse import urlparse, urljoin\n",
    "from time import sleep\n",
    "\n"
   ]
  },
  {
   "cell_type": "code",
   "execution_count": 2,
   "id": "fa508e15",
   "metadata": {},
   "outputs": [
    {
     "name": "stdout",
     "output_type": "stream",
     "text": [
      "User will enter brand handles one at a time\n",
      "User, enter the name of the first brand and press enter->target\n",
      "User, enter the name of the second brand and press enter->apple\n",
      "User, enter the name of the third brand and press enter->walmart\n",
      "First search=https://www.instagram.com/target Second search=https://www.instagram.com/apple Third search=https://www.instagram.com/walmart\n",
      "\n"
     ]
    },
    {
     "data": {
      "text/plain": [
       "[['https://www.instagram.com/target', ' '],\n",
       " ['https://www.instagram.com/apple', ' '],\n",
       " ['https://www.instagram.com/walmart', ' ']]"
      ]
     },
     "execution_count": 2,
     "metadata": {},
     "output_type": "execute_result"
    }
   ],
   "source": [
    "print(\"User will enter brand handles one at a time\")\n",
    "\n",
    "#usrListFile = file.csv\n",
    "\n",
    "#\n",
    "domainName = 'https://www.instagram.com/'#instagram domain url\n",
    "\n",
    "\n",
    "brandHandle1 = input(\"User, enter the name of the first brand and press enter->\")\t\n",
    "brandHandle1=brandHandle1.replace(\" \", \"\")#remove whitespace\n",
    "\n",
    "brandHandle2 = input(\"User, enter the name of the second brand and press enter->\")\t\n",
    "brandHandle2=brandHandle2.replace(\" \", \"\")#remove whitespace\n",
    "\n",
    "brandHandle3 = input(\"User, enter the name of the third brand and press enter->\")\t\n",
    "brandHandle3=brandHandle3.replace(\" \", \"\")#remove whitespace\n",
    "\n",
    "\n",
    "\n",
    "firstSearch = domainName + brandHandle1 #combine brand handle and domain url\n",
    "\n",
    "secondSearch = domainName + brandHandle2#combine brand handle and domain url\n",
    "\n",
    "thirdSearch = domainName + brandHandle3 #combine brand handle and domain url\n",
    "\n",
    "print(\"First search={} Second search={} Third search={}\".format(firstSearch,secondSearch,thirdSearch))\n",
    "\n",
    "print()\n",
    "\n",
    "handlesList=[[firstSearch,' '],[secondSearch, ' '], [thirdSearch,' ']]\n",
    "\n",
    "handlesList"
   ]
  },
  {
   "cell_type": "code",
   "execution_count": 3,
   "id": "e5802598",
   "metadata": {},
   "outputs": [],
   "source": [
    "f= open(\"tiktok1.csv\", \"r+\")\n",
    "f.truncate(0)\n",
    "f.close()"
   ]
  },
  {
   "cell_type": "code",
   "execution_count": 4,
   "id": "187b5c9c",
   "metadata": {},
   "outputs": [],
   "source": [
    "f=open('tiktok1.csv','w')\n",
    "f.write(firstSearch)\n",
    "f.write(\", \\n\")\n",
    "f.write(secondSearch)\n",
    "f.write(\", \\n\")\n",
    "f.write(thirdSearch)\n",
    "f.write(\", \")\n",
    "f.close()"
   ]
  },
  {
   "cell_type": "code",
   "execution_count": 5,
   "id": "d35d16e4",
   "metadata": {},
   "outputs": [],
   "source": [
    "df = pd.read_table(\"file1.csv\", names=['url','text'], delimiter=',')"
   ]
  },
  {
   "cell_type": "code",
   "execution_count": 6,
   "id": "7c869fbb",
   "metadata": {},
   "outputs": [
    {
     "data": {
      "text/html": [
       "<div>\n",
       "<style scoped>\n",
       "    .dataframe tbody tr th:only-of-type {\n",
       "        vertical-align: middle;\n",
       "    }\n",
       "\n",
       "    .dataframe tbody tr th {\n",
       "        vertical-align: top;\n",
       "    }\n",
       "\n",
       "    .dataframe thead th {\n",
       "        text-align: right;\n",
       "    }\n",
       "</style>\n",
       "<table border=\"1\" class=\"dataframe\">\n",
       "  <thead>\n",
       "    <tr style=\"text-align: right;\">\n",
       "      <th></th>\n",
       "      <th>url</th>\n",
       "      <th>text</th>\n",
       "    </tr>\n",
       "  </thead>\n",
       "  <tbody>\n",
       "    <tr>\n",
       "      <th>0</th>\n",
       "      <td>https://www.instagram.com/target</td>\n",
       "      <td></td>\n",
       "    </tr>\n",
       "    <tr>\n",
       "      <th>1</th>\n",
       "      <td>https://www.instagram.com/apple</td>\n",
       "      <td></td>\n",
       "    </tr>\n",
       "    <tr>\n",
       "      <th>2</th>\n",
       "      <td>https://www.instagram.com/walmart</td>\n",
       "      <td></td>\n",
       "    </tr>\n",
       "  </tbody>\n",
       "</table>\n",
       "</div>"
      ],
      "text/plain": [
       "                                 url text\n",
       "0   https://www.instagram.com/target     \n",
       "1    https://www.instagram.com/apple     \n",
       "2  https://www.instagram.com/walmart     "
      ]
     },
     "execution_count": 6,
     "metadata": {},
     "output_type": "execute_result"
    }
   ],
   "source": [
    "df\n"
   ]
  },
  {
   "cell_type": "code",
   "execution_count": 31,
   "id": "0743ec95",
   "metadata": {},
   "outputs": [],
   "source": [
    "urls = 'https://www.tiktok.com/'#@target?'"
   ]
  },
  {
   "cell_type": "code",
   "execution_count": 32,
   "id": "699167f6",
   "metadata": {},
   "outputs": [],
   "source": [
    "headers = {\"user-agent\":'Mozilla/5.0 (Windows NT 10.0; Win64; x64) AppleWebKit/537.36 (KHTML, like Gecko) Chrome/87.0.4280.141 Safari/537.36'}\n",
    "page = requests.get(urls, headers=headers);\n",
    "soup = BeautifulSoup(page.content, 'html.parser');"
   ]
  },
  {
   "cell_type": "code",
   "execution_count": 33,
   "id": "a6a09237",
   "metadata": {},
   "outputs": [],
   "source": [
    "import re\n",
    "from urllib.request import urlopen\n",
    "import json\n",
    "from pandas.io.json import json_normalize\n",
    "from selenium.webdriver.common.keys import Keys\n",
    "from selenium.webdriver.chrome.options import Options\n",
    "from time import sleep\n",
    "from selenium.common.exceptions import WebDriverException\n",
    "\n"
   ]
  },
  {
   "cell_type": "code",
   "execution_count": 34,
   "id": "ee1f0d2a",
   "metadata": {},
   "outputs": [
    {
     "name": "stderr",
     "output_type": "stream",
     "text": [
      "\n",
      "\n",
      "====== WebDriver manager ======\n",
      "Current google-chrome version is 96.0.4664\n",
      "Get LATEST driver version for 96.0.4664\n",
      "Driver [C:\\Users\\peter\\.wdm\\drivers\\chromedriver\\win32\\96.0.4664.45\\chromedriver.exe] found in cache\n",
      "C:\\Users\\peter\\AppData\\Local\\Temp/ipykernel_10080/3820610019.py:1: DeprecationWarning: executable_path has been deprecated, please pass in a Service object\n",
      "  browser = webdriver.Chrome(executable_path=ChromeDriverManager().install())\n"
     ]
    }
   ],
   "source": [
    "browser = webdriver.Chrome(executable_path=ChromeDriverManager().install())\n",
    "browser.get(urls)\n",
    "sleep(10)\n",
    "page_source = browser.page_source\n",
    "page = BeautifulSoup(page_source, 'html.parser')"
   ]
  },
  {
   "cell_type": "code",
   "execution_count": 25,
   "id": "4cd2aa3d",
   "metadata": {},
   "outputs": [
    {
     "name": "stdout",
     "output_type": "stream",
     "text": [
      "/en\n",
      "/en\n",
      "/following?lang=en\n",
      "https://www.tiktok.com/about?lang=en\n",
      "https://newsroom.tiktok.com/\n",
      "https://www.tiktok.com/store?lang=en\n",
      "https://www.tiktok.com/about/contact?lang=en\n",
      "https://careers.tiktok.com\n",
      "https://www.bytedance.com/\n",
      "https://www.tiktok.com/directory?lang=en\n",
      "https://www.tiktok.com/forgood\n",
      "https://www.tiktok.com/business/?attr_source=tt_official_site&attr_medium=tt_official_site_guidance&refer=tiktok_web\n",
      "https://developers.tiktok.com/?refer=tiktok_web\n",
      "https://www.tiktok.com/transparency?lang=en\n",
      "https://support.tiktok.com/en\n",
      "https://www.tiktok.com/safety?lang=en\n",
      "https://www.tiktok.com/legal/terms-of-service?lang=en\n",
      "https://www.tiktok.com/legal/privacy-policy-row?lang=en\n",
      "https://www.tiktok.com/creators/creator-portal/en-us/\n",
      "https://www.tiktok.com/community-guidelines?lang=en\n",
      "https://www.tiktok.com/link/v2?aid=1988&lang=en&scene=bio_url&target=https%3A%2F%2Ftgt.biz%2Fqrjhu3\n",
      "https://www.tiktok.com/@target/video/7036831556585049391\n",
      "https://www.tiktok.com/@target/video/7036447443596086574\n",
      "https://www.tiktok.com/@target/video/7036091748556361007\n",
      "https://www.tiktok.com/@target/video/7035717837499010351\n",
      "https://www.tiktok.com/@target/video/7035346699589717294\n",
      "https://www.tiktok.com/@target/video/7034553972165954862\n",
      "https://www.tiktok.com/download-link/af/id835599320\n",
      "https://www.tiktok.com/download-link/af/com.zhiliaoapp.musically\n",
      "https://www.amazon.com/dp/B0117U0G3M/\n"
     ]
    }
   ],
   "source": [
    "#https://medium.com/analytics-vidhya/using-python-and-selenium-to-scrape-infinite-scroll-web-pages-825d12c24ec7\n",
    "#soup.find_all('a')\n",
    "urls = []\n",
    "thumburls = []\n",
    "captions = []\n",
    "\n",
    "\n",
    "#for parent in soup.find_all('div'):\n",
    "#    a_tag=parent.find('a')\n",
    "#    href = a_tag.attrs['href']\n",
    "#    print(href)\n",
    "\n",
    "for x in page.find_all('a'):\n",
    "    print(x.get('href'))"
   ]
  },
  {
   "cell_type": "code",
   "execution_count": 27,
   "id": "495c8467",
   "metadata": {},
   "outputs": [
    {
     "data": {
      "text/plain": [
       "'https://www.tiktok.com/@target?'"
      ]
     },
     "execution_count": 27,
     "metadata": {},
     "output_type": "execute_result"
    }
   ],
   "source": [
    "urls"
   ]
  },
  {
   "cell_type": "code",
   "execution_count": null,
   "id": "ef41206a",
   "metadata": {},
   "outputs": [],
   "source": []
  }
 ],
 "metadata": {
  "kernelspec": {
   "display_name": "Python 3 (ipykernel)",
   "language": "python",
   "name": "python3"
  },
  "language_info": {
   "codemirror_mode": {
    "name": "ipython",
    "version": 3
   },
   "file_extension": ".py",
   "mimetype": "text/x-python",
   "name": "python",
   "nbconvert_exporter": "python",
   "pygments_lexer": "ipython3",
   "version": "3.8.12"
  }
 },
 "nbformat": 4,
 "nbformat_minor": 5
}
